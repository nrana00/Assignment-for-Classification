{
  "nbformat": 4,
  "nbformat_minor": 0,
  "metadata": {
    "colab": {
      "provenance": [],
      "authorship_tag": "ABX9TyMXlaLO0shjzO3fS6v9EAeQ",
      "include_colab_link": true
    },
    "kernelspec": {
      "name": "python3",
      "display_name": "Python 3"
    },
    "language_info": {
      "name": "python"
    }
  },
  "cells": [
    {
      "cell_type": "markdown",
      "metadata": {
        "id": "view-in-github",
        "colab_type": "text"
      },
      "source": [
        "<a href=\"https://colab.research.google.com/github/nrana00/Assignment-for-Classification/blob/main/Classification_using_Apache_Spark.ipynb\" target=\"_parent\"><img src=\"https://colab.research.google.com/assets/colab-badge.svg\" alt=\"Open In Colab\"/></a>"
      ]
    },
    {
      "cell_type": "code",
      "source": [
        "# Check the environment\n",
        "!java --version\n",
        "!phython --version"
      ],
      "metadata": {
        "colab": {
          "base_uri": "https://localhost:8080/"
        },
        "id": "WzaWawZCqolG",
        "outputId": "20614af2-1bbd-4885-9aab-f545398f340d"
      },
      "execution_count": 4,
      "outputs": [
        {
          "output_type": "stream",
          "name": "stdout",
          "text": [
            "openjdk 11.0.19 2023-04-18\n",
            "OpenJDK Runtime Environment (build 11.0.19+7-post-Ubuntu-0ubuntu120.04.1)\n",
            "OpenJDK 64-Bit Server VM (build 11.0.19+7-post-Ubuntu-0ubuntu120.04.1, mixed mode, sharing)\n",
            "/bin/bash: phython: command not found\n"
          ]
        }
      ]
    },
    {
      "cell_type": "code",
      "source": [
        "# Download Apache Spark\n",
        "!pip install pyspark"
      ],
      "metadata": {
        "colab": {
          "base_uri": "https://localhost:8080/"
        },
        "id": "dgN_ujaqxv8d",
        "outputId": "f129d80d-c425-47da-9234-601fa8dbaca5"
      },
      "execution_count": 5,
      "outputs": [
        {
          "output_type": "stream",
          "name": "stdout",
          "text": [
            "Looking in indexes: https://pypi.org/simple, https://us-python.pkg.dev/colab-wheels/public/simple/\n",
            "Collecting pyspark\n",
            "  Downloading pyspark-3.4.0.tar.gz (310.8 MB)\n",
            "\u001b[2K     \u001b[90m━━━━━━━━━━━━━━━━━━━━━━━━━━━━━━━━━━━━━━━\u001b[0m \u001b[32m310.8/310.8 MB\u001b[0m \u001b[31m4.0 MB/s\u001b[0m eta \u001b[36m0:00:00\u001b[0m\n",
            "\u001b[?25h  Preparing metadata (setup.py) ... \u001b[?25l\u001b[?25hdone\n",
            "Requirement already satisfied: py4j==0.10.9.7 in /usr/local/lib/python3.10/dist-packages (from pyspark) (0.10.9.7)\n",
            "Building wheels for collected packages: pyspark\n",
            "  Building wheel for pyspark (setup.py) ... \u001b[?25l\u001b[?25hdone\n",
            "  Created wheel for pyspark: filename=pyspark-3.4.0-py2.py3-none-any.whl size=311317130 sha256=cd42b708491e8f49779309725b575b56948ca880c6fd9c85ad62d8e469850de5\n",
            "  Stored in directory: /root/.cache/pip/wheels/7b/1b/4b/3363a1d04368e7ff0d408e57ff57966fcdf00583774e761327\n",
            "Successfully built pyspark\n",
            "Installing collected packages: pyspark\n",
            "Successfully installed pyspark-3.4.0\n"
          ]
        }
      ]
    },
    {
      "cell_type": "code",
      "source": [
        "# Initiate the Spark Session\n",
        "from pyspark.sql import SparkSession\n",
        "\n",
        "# Create Spark Session/Context\n",
        "spark = SparkSession.builder \\\n",
        "  .master(\"local\") \\\n",
        "  .appName(\"Hello Pyspark\") \\\n",
        "  .config(\"spark.some.config.option\", \"some-value\") \\\n",
        "  .getOrCreate()\n",
        "\n",
        "print(spark)"
      ],
      "metadata": {
        "colab": {
          "base_uri": "https://localhost:8080/"
        },
        "id": "kcys4ZtRxyXi",
        "outputId": "493868b9-0040-4e71-9f5d-0b4e97402dd7"
      },
      "execution_count": 6,
      "outputs": [
        {
          "output_type": "stream",
          "name": "stdout",
          "text": [
            "<pyspark.sql.session.SparkSession object at 0x7f59b961e410>\n"
          ]
        }
      ]
    },
    {
      "cell_type": "markdown",
      "source": [
        "The Adult dataset is publicly available at the UCI Machine Learning Repository. This data derives from census data and consists of information about 48842 individuals and their annual income. You can use this information to predict if an individual earns <=50K or >50k a year. The dataset consists of both numeric and categorical variables.\n",
        "\n",
        "Attribute Information:\n",
        "\n",
        "age: continuous\n",
        "workclass: Private,Self-emp-not-inc, Self-emp-inc, Federal-gov, Local-gov, State-gov, Without-pay, Never-worked\n",
        "fnlwgt: continuous\n",
        "education: Bachelors, Some-college, 11th, HS-grad, Prof-school, Assoc-acdm, Assoc-voc...\n",
        "education-num: continuous\n",
        "marital-status: Married-civ-spouse, Divorced, Never-married, Separated, Widowed, Married-spouse-absent...\n",
        "occupation: Tech-support, Craft-repair, Other-service, Sales, Exec-managerial, Prof-specialty, Handlers-cleaners...\n",
        "relationship: Wife, Own-child, Husband, Not-in-family, Other-relative, Unmarried\n",
        "race: White, Asian-Pac-Islander, Amer-Indian-Eskimo, Other, Black\n",
        "sex: Female, Male\n",
        "capital-gain: continuous\n",
        "capital-loss: continuous\n",
        "hours-per-week: continuous\n",
        "native-country: United-States, Cambodia, England, Puerto-Rico, Canada, Germany...\n",
        "Target/Label: - <=50K, >50K"
      ],
      "metadata": {
        "id": "BIUbx8xozIoA"
      }
    },
    {
      "cell_type": "code",
      "source": [
        "from pyspark.sql.types import DoubleType, StringType, StructField, StructType\n",
        " \n",
        "schema = StructType([\n",
        "  StructField(\"age\", DoubleType(), False),\n",
        "  StructField(\"workclass\", StringType(), False),\n",
        "  StructField(\"fnlwgt\", DoubleType(), False),\n",
        "  StructField(\"education\", StringType(), False),\n",
        "  StructField(\"education_num\", DoubleType(), False),\n",
        "  StructField(\"marital_status\", StringType(), False),\n",
        "  StructField(\"occupation\", StringType(), False),\n",
        "  StructField(\"relationship\", StringType(), False),\n",
        "  StructField(\"race\", StringType(), False),\n",
        "  StructField(\"sex\", StringType(), False),\n",
        "  StructField(\"capital_gain\", DoubleType(), False),\n",
        "  StructField(\"capital_loss\", DoubleType(), False),\n",
        "  StructField(\"hours_per_week\", DoubleType(), False),\n",
        "  StructField(\"native_country\", StringType(), False),\n",
        "  StructField(\"income\", StringType(), False)\n",
        "])\n",
        " \n"
      ],
      "metadata": {
        "id": "yufn5JLQycO4"
      },
      "execution_count": 12,
      "outputs": []
    },
    {
      "cell_type": "code",
      "source": [
        "dataset = spark.read.format(\"csv\").schema(schema).load(\"adult.data\")\n",
        "cols = dataset.columns"
      ],
      "metadata": {
        "id": "Nth7YDfl1FLU"
      },
      "execution_count": 15,
      "outputs": []
    },
    {
      "cell_type": "code",
      "source": [
        "dataset = spark.read.format(\"csv\").schema(schema).load(\"adult.data\")\n",
        "cols = dataset.columns"
      ],
      "metadata": {
        "id": "mO3Y8iVYowIE"
      },
      "execution_count": 16,
      "outputs": []
    },
    {
      "cell_type": "code",
      "source": [
        "dataset.show()"
      ],
      "metadata": {
        "colab": {
          "base_uri": "https://localhost:8080/"
        },
        "id": "n27beDxrmeSR",
        "outputId": "c8a60b21-928f-438c-99d2-a012d22efe71"
      },
      "execution_count": 17,
      "outputs": [
        {
          "output_type": "stream",
          "name": "stdout",
          "text": [
            "+----+-----------------+--------+-------------+-------------+--------------------+------------------+--------------+-------------------+-------+------------+------------+--------------+--------------+------+\n",
            "| age|        workclass|  fnlwgt|    education|education_num|      marital_status|        occupation|  relationship|               race|    sex|capital_gain|capital_loss|hours_per_week|native_country|income|\n",
            "+----+-----------------+--------+-------------+-------------+--------------------+------------------+--------------+-------------------+-------+------------+------------+--------------+--------------+------+\n",
            "|39.0|        State-gov| 77516.0|    Bachelors|         13.0|       Never-married|      Adm-clerical| Not-in-family|              White|   Male|      2174.0|         0.0|          40.0| United-States| <=50K|\n",
            "|50.0| Self-emp-not-inc| 83311.0|    Bachelors|         13.0|  Married-civ-spouse|   Exec-managerial|       Husband|              White|   Male|         0.0|         0.0|          13.0| United-States| <=50K|\n",
            "|38.0|          Private|215646.0|      HS-grad|          9.0|            Divorced| Handlers-cleaners| Not-in-family|              White|   Male|         0.0|         0.0|          40.0| United-States| <=50K|\n",
            "|53.0|          Private|234721.0|         11th|          7.0|  Married-civ-spouse| Handlers-cleaners|       Husband|              Black|   Male|         0.0|         0.0|          40.0| United-States| <=50K|\n",
            "|28.0|          Private|338409.0|    Bachelors|         13.0|  Married-civ-spouse|    Prof-specialty|          Wife|              Black| Female|         0.0|         0.0|          40.0|          Cuba| <=50K|\n",
            "|37.0|          Private|284582.0|      Masters|         14.0|  Married-civ-spouse|   Exec-managerial|          Wife|              White| Female|         0.0|         0.0|          40.0| United-States| <=50K|\n",
            "|49.0|          Private|160187.0|          9th|          5.0| Married-spouse-a...|     Other-service| Not-in-family|              Black| Female|         0.0|         0.0|          16.0|       Jamaica| <=50K|\n",
            "|52.0| Self-emp-not-inc|209642.0|      HS-grad|          9.0|  Married-civ-spouse|   Exec-managerial|       Husband|              White|   Male|         0.0|         0.0|          45.0| United-States|  >50K|\n",
            "|31.0|          Private| 45781.0|      Masters|         14.0|       Never-married|    Prof-specialty| Not-in-family|              White| Female|     14084.0|         0.0|          50.0| United-States|  >50K|\n",
            "|42.0|          Private|159449.0|    Bachelors|         13.0|  Married-civ-spouse|   Exec-managerial|       Husband|              White|   Male|      5178.0|         0.0|          40.0| United-States|  >50K|\n",
            "|37.0|          Private|280464.0| Some-college|         10.0|  Married-civ-spouse|   Exec-managerial|       Husband|              Black|   Male|         0.0|         0.0|          80.0| United-States|  >50K|\n",
            "|30.0|        State-gov|141297.0|    Bachelors|         13.0|  Married-civ-spouse|    Prof-specialty|       Husband| Asian-Pac-Islander|   Male|         0.0|         0.0|          40.0|         India|  >50K|\n",
            "|23.0|          Private|122272.0|    Bachelors|         13.0|       Never-married|      Adm-clerical|     Own-child|              White| Female|         0.0|         0.0|          30.0| United-States| <=50K|\n",
            "|32.0|          Private|205019.0|   Assoc-acdm|         12.0|       Never-married|             Sales| Not-in-family|              Black|   Male|         0.0|         0.0|          50.0| United-States| <=50K|\n",
            "|40.0|          Private|121772.0|    Assoc-voc|         11.0|  Married-civ-spouse|      Craft-repair|       Husband| Asian-Pac-Islander|   Male|         0.0|         0.0|          40.0|             ?|  >50K|\n",
            "|34.0|          Private|245487.0|      7th-8th|          4.0|  Married-civ-spouse|  Transport-moving|       Husband| Amer-Indian-Eskimo|   Male|         0.0|         0.0|          45.0|        Mexico| <=50K|\n",
            "|25.0| Self-emp-not-inc|176756.0|      HS-grad|          9.0|       Never-married|   Farming-fishing|     Own-child|              White|   Male|         0.0|         0.0|          35.0| United-States| <=50K|\n",
            "|32.0|          Private|186824.0|      HS-grad|          9.0|       Never-married| Machine-op-inspct|     Unmarried|              White|   Male|         0.0|         0.0|          40.0| United-States| <=50K|\n",
            "|38.0|          Private| 28887.0|         11th|          7.0|  Married-civ-spouse|             Sales|       Husband|              White|   Male|         0.0|         0.0|          50.0| United-States| <=50K|\n",
            "|43.0| Self-emp-not-inc|292175.0|      Masters|         14.0|            Divorced|   Exec-managerial|     Unmarried|              White| Female|         0.0|         0.0|          45.0| United-States|  >50K|\n",
            "+----+-----------------+--------+-------------+-------------+--------------------+------------------+--------------+-------------------+-------+------------+------------+--------------+--------------+------+\n",
            "only showing top 20 rows\n",
            "\n"
          ]
        }
      ]
    },
    {
      "cell_type": "code",
      "source": [
        "import pyspark\n",
        "from pyspark.ml import Pipeline\n",
        "from pyspark.ml.feature import StringIndexer, VectorAssembler\n",
        " \n",
        "from distutils.version import LooseVersion\n",
        " \n",
        "categoricalColumns = [\"workclass\", \"education\", \"marital_status\", \"occupation\", \"relationship\", \"race\", \"sex\", \"native_country\"]\n",
        "stages = [] # stages in Pipeline\n",
        "for categoricalCol in categoricalColumns:\n",
        "    # Category Indexing with StringIndexer\n",
        "    stringIndexer = StringIndexer(inputCol=categoricalCol, outputCol=categoricalCol + \"Index\")\n",
        "    # Use OneHotEncoder to convert categorical variables into binary SparseVectors\n",
        "    if LooseVersion(pyspark.__version__) < LooseVersion(\"3.0\"):\n",
        "        from pyspark.ml.feature import OneHotEncoderEstimator\n",
        "        encoder = OneHotEncoderEstimator(inputCols=[stringIndexer.getOutputCol()], outputCols=[categoricalCol + \"classVec\"])\n",
        "    else:\n",
        "        from pyspark.ml.feature import OneHotEncoder\n",
        "        encoder = OneHotEncoder(inputCols=[stringIndexer.getOutputCol()], outputCols=[categoricalCol + \"classVec\"])\n",
        "    # Add stages.  These are not run here, but will run all at once later on.\n",
        "    stages += [stringIndexer, encoder]"
      ],
      "metadata": {
        "id": "kbxR5q1knLNV"
      },
      "execution_count": 18,
      "outputs": []
    },
    {
      "cell_type": "code",
      "source": [
        "stages = [] # stages in Pipeline\n",
        "for categoricalCol in categoricalColumns:\n",
        "    # Category Indexing with StringIndexer\n",
        "    stringIndexer = StringIndexer(inputCol=categoricalCol, outputCol=categoricalCol + \"Index\")\n",
        "    encoder = OneHotEncoder(inputCols=[stringIndexer.getOutputCol()], outputCols=[categoricalCol + \"classVec\"])\n",
        "    stages += [stringIndexer, encoder]"
      ],
      "metadata": {
        "id": "Xg5Nlh3QnkLV"
      },
      "execution_count": 19,
      "outputs": []
    },
    {
      "cell_type": "code",
      "source": [
        "# Convert label into label indices using the StringIndexer\n",
        "label_stringIdx = StringIndexer(inputCol=\"income\", outputCol=\"label\")\n",
        "stages += [label_stringIdx]"
      ],
      "metadata": {
        "id": "-pV5UF6soIoy"
      },
      "execution_count": 20,
      "outputs": []
    },
    {
      "cell_type": "code",
      "source": [
        "stages"
      ],
      "metadata": {
        "colab": {
          "base_uri": "https://localhost:8080/"
        },
        "id": "y8QeX7b4oO4I",
        "outputId": "8b7313f9-dadb-47ba-8639-92c6e6b1905c"
      },
      "execution_count": 21,
      "outputs": [
        {
          "output_type": "execute_result",
          "data": {
            "text/plain": [
              "[StringIndexer_ff2ea2c5c7aa,\n",
              " OneHotEncoder_75f8a3509411,\n",
              " StringIndexer_e3c56f765d1b,\n",
              " OneHotEncoder_f26fc0055ad6,\n",
              " StringIndexer_62634d610bb1,\n",
              " OneHotEncoder_19bc88fdef8f,\n",
              " StringIndexer_c38d6fc8c7b4,\n",
              " OneHotEncoder_088bbd10ef0a,\n",
              " StringIndexer_7bb76a8a6c0b,\n",
              " OneHotEncoder_9c53079aa301,\n",
              " StringIndexer_936136229d45,\n",
              " OneHotEncoder_34e16a5a3fa0,\n",
              " StringIndexer_8c75ebe16a3f,\n",
              " OneHotEncoder_38c7b749df95,\n",
              " StringIndexer_dfcc5c8f75d5,\n",
              " OneHotEncoder_7f3e6b5384c6,\n",
              " StringIndexer_b0d5076a5db3]"
            ]
          },
          "metadata": {},
          "execution_count": 21
        }
      ]
    },
    {
      "cell_type": "code",
      "source": [
        "# Transform all features into a vector using VectorAssembler\n",
        "numericCols = [\"age\", \"fnlwgt\", \"education_num\", \"capital_gain\", \"capital_loss\", \"hours_per_week\"]\n",
        "assemblerInputs = [c + \"classVec\" for c in categoricalColumns] + numericCols\n",
        "assembler = VectorAssembler(inputCols=assemblerInputs, outputCol=\"features\")\n",
        "stages += [assembler]"
      ],
      "metadata": {
        "id": "cLOrZo_WoQ6V"
      },
      "execution_count": 22,
      "outputs": []
    },
    {
      "cell_type": "code",
      "source": [
        "from pyspark.ml.classification import LogisticRegression\n",
        "  \n",
        "partialPipeline = Pipeline().setStages(stages)\n",
        "pipelineModel = partialPipeline.fit(dataset)\n",
        "preppedDataDF = pipelineModel.transform(dataset)"
      ],
      "metadata": {
        "id": "YtLYq0UJoVJU"
      },
      "execution_count": 23,
      "outputs": []
    },
    {
      "cell_type": "code",
      "source": [
        "preppedDataDF.show()"
      ],
      "metadata": {
        "colab": {
          "base_uri": "https://localhost:8080/"
        },
        "id": "UUm2W9eooXrC",
        "outputId": "b7e6423a-6b1b-4139-ccee-44403a5dca9e"
      },
      "execution_count": 24,
      "outputs": [
        {
          "output_type": "stream",
          "name": "stdout",
          "text": [
            "+----+-----------------+--------+-------------+-------------+--------------------+------------------+--------------+-------------------+-------+------------+------------+--------------+--------------+------+--------------+-----------------+--------------+-----------------+-------------------+----------------------+---------------+------------------+-----------------+--------------------+---------+-------------+--------+-------------+-------------------+----------------------+-----+--------------------+\n",
            "| age|        workclass|  fnlwgt|    education|education_num|      marital_status|        occupation|  relationship|               race|    sex|capital_gain|capital_loss|hours_per_week|native_country|income|workclassIndex|workclassclassVec|educationIndex|educationclassVec|marital_statusIndex|marital_statusclassVec|occupationIndex|occupationclassVec|relationshipIndex|relationshipclassVec|raceIndex| raceclassVec|sexIndex|  sexclassVec|native_countryIndex|native_countryclassVec|label|            features|\n",
            "+----+-----------------+--------+-------------+-------------+--------------------+------------------+--------------+-------------------+-------+------------+------------+--------------+--------------+------+--------------+-----------------+--------------+-----------------+-------------------+----------------------+---------------+------------------+-----------------+--------------------+---------+-------------+--------+-------------+-------------------+----------------------+-----+--------------------+\n",
            "|39.0|        State-gov| 77516.0|    Bachelors|         13.0|       Never-married|      Adm-clerical| Not-in-family|              White|   Male|      2174.0|         0.0|          40.0| United-States| <=50K|           4.0|    (8,[4],[1.0])|           2.0|   (15,[2],[1.0])|                1.0|         (6,[1],[1.0])|            3.0|    (14,[3],[1.0])|              1.0|       (5,[1],[1.0])|      0.0|(4,[0],[1.0])|     0.0|(1,[0],[1.0])|                0.0|        (41,[0],[1.0])|  0.0|(100,[4,10,24,32,...|\n",
            "|50.0| Self-emp-not-inc| 83311.0|    Bachelors|         13.0|  Married-civ-spouse|   Exec-managerial|       Husband|              White|   Male|         0.0|         0.0|          13.0| United-States| <=50K|           1.0|    (8,[1],[1.0])|           2.0|   (15,[2],[1.0])|                0.0|         (6,[0],[1.0])|            2.0|    (14,[2],[1.0])|              0.0|       (5,[0],[1.0])|      0.0|(4,[0],[1.0])|     0.0|(1,[0],[1.0])|                0.0|        (41,[0],[1.0])|  0.0|(100,[1,10,23,31,...|\n",
            "|38.0|          Private|215646.0|      HS-grad|          9.0|            Divorced| Handlers-cleaners| Not-in-family|              White|   Male|         0.0|         0.0|          40.0| United-States| <=50K|           0.0|    (8,[0],[1.0])|           0.0|   (15,[0],[1.0])|                2.0|         (6,[2],[1.0])|            9.0|    (14,[9],[1.0])|              1.0|       (5,[1],[1.0])|      0.0|(4,[0],[1.0])|     0.0|(1,[0],[1.0])|                0.0|        (41,[0],[1.0])|  0.0|(100,[0,8,25,38,4...|\n",
            "|53.0|          Private|234721.0|         11th|          7.0|  Married-civ-spouse| Handlers-cleaners|       Husband|              Black|   Male|         0.0|         0.0|          40.0| United-States| <=50K|           0.0|    (8,[0],[1.0])|           5.0|   (15,[5],[1.0])|                0.0|         (6,[0],[1.0])|            9.0|    (14,[9],[1.0])|              0.0|       (5,[0],[1.0])|      1.0|(4,[1],[1.0])|     0.0|(1,[0],[1.0])|                0.0|        (41,[0],[1.0])|  0.0|(100,[0,13,23,38,...|\n",
            "|28.0|          Private|338409.0|    Bachelors|         13.0|  Married-civ-spouse|    Prof-specialty|          Wife|              Black| Female|         0.0|         0.0|          40.0|          Cuba| <=50K|           0.0|    (8,[0],[1.0])|           2.0|   (15,[2],[1.0])|                0.0|         (6,[0],[1.0])|            0.0|    (14,[0],[1.0])|              4.0|       (5,[4],[1.0])|      1.0|(4,[1],[1.0])|     1.0|    (1,[],[])|                9.0|        (41,[9],[1.0])|  0.0|(100,[0,10,23,29,...|\n",
            "|37.0|          Private|284582.0|      Masters|         14.0|  Married-civ-spouse|   Exec-managerial|          Wife|              White| Female|         0.0|         0.0|          40.0| United-States| <=50K|           0.0|    (8,[0],[1.0])|           3.0|   (15,[3],[1.0])|                0.0|         (6,[0],[1.0])|            2.0|    (14,[2],[1.0])|              4.0|       (5,[4],[1.0])|      0.0|(4,[0],[1.0])|     1.0|    (1,[],[])|                0.0|        (41,[0],[1.0])|  0.0|(100,[0,11,23,31,...|\n",
            "|49.0|          Private|160187.0|          9th|          5.0| Married-spouse-a...|     Other-service| Not-in-family|              Black| Female|         0.0|         0.0|          16.0|       Jamaica| <=50K|           0.0|    (8,[0],[1.0])|          10.0|  (15,[10],[1.0])|                5.0|         (6,[5],[1.0])|            5.0|    (14,[5],[1.0])|              1.0|       (5,[1],[1.0])|      1.0|(4,[1],[1.0])|     1.0|    (1,[],[])|               11.0|       (41,[11],[1.0])|  0.0|(100,[0,18,28,34,...|\n",
            "|52.0| Self-emp-not-inc|209642.0|      HS-grad|          9.0|  Married-civ-spouse|   Exec-managerial|       Husband|              White|   Male|         0.0|         0.0|          45.0| United-States|  >50K|           1.0|    (8,[1],[1.0])|           0.0|   (15,[0],[1.0])|                0.0|         (6,[0],[1.0])|            2.0|    (14,[2],[1.0])|              0.0|       (5,[0],[1.0])|      0.0|(4,[0],[1.0])|     0.0|(1,[0],[1.0])|                0.0|        (41,[0],[1.0])|  1.0|(100,[1,8,23,31,4...|\n",
            "|31.0|          Private| 45781.0|      Masters|         14.0|       Never-married|    Prof-specialty| Not-in-family|              White| Female|     14084.0|         0.0|          50.0| United-States|  >50K|           0.0|    (8,[0],[1.0])|           3.0|   (15,[3],[1.0])|                1.0|         (6,[1],[1.0])|            0.0|    (14,[0],[1.0])|              1.0|       (5,[1],[1.0])|      0.0|(4,[0],[1.0])|     1.0|    (1,[],[])|                0.0|        (41,[0],[1.0])|  1.0|(100,[0,11,24,29,...|\n",
            "|42.0|          Private|159449.0|    Bachelors|         13.0|  Married-civ-spouse|   Exec-managerial|       Husband|              White|   Male|      5178.0|         0.0|          40.0| United-States|  >50K|           0.0|    (8,[0],[1.0])|           2.0|   (15,[2],[1.0])|                0.0|         (6,[0],[1.0])|            2.0|    (14,[2],[1.0])|              0.0|       (5,[0],[1.0])|      0.0|(4,[0],[1.0])|     0.0|(1,[0],[1.0])|                0.0|        (41,[0],[1.0])|  1.0|(100,[0,10,23,31,...|\n",
            "|37.0|          Private|280464.0| Some-college|         10.0|  Married-civ-spouse|   Exec-managerial|       Husband|              Black|   Male|         0.0|         0.0|          80.0| United-States|  >50K|           0.0|    (8,[0],[1.0])|           1.0|   (15,[1],[1.0])|                0.0|         (6,[0],[1.0])|            2.0|    (14,[2],[1.0])|              0.0|       (5,[0],[1.0])|      1.0|(4,[1],[1.0])|     0.0|(1,[0],[1.0])|                0.0|        (41,[0],[1.0])|  1.0|(100,[0,9,23,31,4...|\n",
            "|30.0|        State-gov|141297.0|    Bachelors|         13.0|  Married-civ-spouse|    Prof-specialty|       Husband| Asian-Pac-Islander|   Male|         0.0|         0.0|          40.0|         India|  >50K|           4.0|    (8,[4],[1.0])|           2.0|   (15,[2],[1.0])|                0.0|         (6,[0],[1.0])|            0.0|    (14,[0],[1.0])|              0.0|       (5,[0],[1.0])|      2.0|(4,[2],[1.0])|     0.0|(1,[0],[1.0])|                8.0|        (41,[8],[1.0])|  1.0|(100,[4,10,23,29,...|\n",
            "|23.0|          Private|122272.0|    Bachelors|         13.0|       Never-married|      Adm-clerical|     Own-child|              White| Female|         0.0|         0.0|          30.0| United-States| <=50K|           0.0|    (8,[0],[1.0])|           2.0|   (15,[2],[1.0])|                1.0|         (6,[1],[1.0])|            3.0|    (14,[3],[1.0])|              2.0|       (5,[2],[1.0])|      0.0|(4,[0],[1.0])|     1.0|    (1,[],[])|                0.0|        (41,[0],[1.0])|  0.0|(100,[0,10,24,32,...|\n",
            "|32.0|          Private|205019.0|   Assoc-acdm|         12.0|       Never-married|             Sales| Not-in-family|              Black|   Male|         0.0|         0.0|          50.0| United-States| <=50K|           0.0|    (8,[0],[1.0])|           6.0|   (15,[6],[1.0])|                1.0|         (6,[1],[1.0])|            4.0|    (14,[4],[1.0])|              1.0|       (5,[1],[1.0])|      1.0|(4,[1],[1.0])|     0.0|(1,[0],[1.0])|                0.0|        (41,[0],[1.0])|  0.0|(100,[0,14,24,33,...|\n",
            "|40.0|          Private|121772.0|    Assoc-voc|         11.0|  Married-civ-spouse|      Craft-repair|       Husband| Asian-Pac-Islander|   Male|         0.0|         0.0|          40.0|             ?|  >50K|           0.0|    (8,[0],[1.0])|           4.0|   (15,[4],[1.0])|                0.0|         (6,[0],[1.0])|            1.0|    (14,[1],[1.0])|              0.0|       (5,[0],[1.0])|      2.0|(4,[2],[1.0])|     0.0|(1,[0],[1.0])|                2.0|        (41,[2],[1.0])|  1.0|(100,[0,12,23,30,...|\n",
            "|34.0|          Private|245487.0|      7th-8th|          4.0|  Married-civ-spouse|  Transport-moving|       Husband| Amer-Indian-Eskimo|   Male|         0.0|         0.0|          45.0|        Mexico| <=50K|           0.0|    (8,[0],[1.0])|           8.0|   (15,[8],[1.0])|                0.0|         (6,[0],[1.0])|            8.0|    (14,[8],[1.0])|              0.0|       (5,[0],[1.0])|      3.0|(4,[3],[1.0])|     0.0|(1,[0],[1.0])|                1.0|        (41,[1],[1.0])|  0.0|(100,[0,16,23,37,...|\n",
            "|25.0| Self-emp-not-inc|176756.0|      HS-grad|          9.0|       Never-married|   Farming-fishing|     Own-child|              White|   Male|         0.0|         0.0|          35.0| United-States| <=50K|           1.0|    (8,[1],[1.0])|           0.0|   (15,[0],[1.0])|                1.0|         (6,[1],[1.0])|           10.0|   (14,[10],[1.0])|              2.0|       (5,[2],[1.0])|      0.0|(4,[0],[1.0])|     0.0|(1,[0],[1.0])|                0.0|        (41,[0],[1.0])|  0.0|(100,[1,8,24,39,4...|\n",
            "|32.0|          Private|186824.0|      HS-grad|          9.0|       Never-married| Machine-op-inspct|     Unmarried|              White|   Male|         0.0|         0.0|          40.0| United-States| <=50K|           0.0|    (8,[0],[1.0])|           0.0|   (15,[0],[1.0])|                1.0|         (6,[1],[1.0])|            6.0|    (14,[6],[1.0])|              3.0|       (5,[3],[1.0])|      0.0|(4,[0],[1.0])|     0.0|(1,[0],[1.0])|                0.0|        (41,[0],[1.0])|  0.0|(100,[0,8,24,35,4...|\n",
            "|38.0|          Private| 28887.0|         11th|          7.0|  Married-civ-spouse|             Sales|       Husband|              White|   Male|         0.0|         0.0|          50.0| United-States| <=50K|           0.0|    (8,[0],[1.0])|           5.0|   (15,[5],[1.0])|                0.0|         (6,[0],[1.0])|            4.0|    (14,[4],[1.0])|              0.0|       (5,[0],[1.0])|      0.0|(4,[0],[1.0])|     0.0|(1,[0],[1.0])|                0.0|        (41,[0],[1.0])|  0.0|(100,[0,13,23,33,...|\n",
            "|43.0| Self-emp-not-inc|292175.0|      Masters|         14.0|            Divorced|   Exec-managerial|     Unmarried|              White| Female|         0.0|         0.0|          45.0| United-States|  >50K|           1.0|    (8,[1],[1.0])|           3.0|   (15,[3],[1.0])|                2.0|         (6,[2],[1.0])|            2.0|    (14,[2],[1.0])|              3.0|       (5,[3],[1.0])|      0.0|(4,[0],[1.0])|     1.0|    (1,[],[])|                0.0|        (41,[0],[1.0])|  1.0|(100,[1,11,25,31,...|\n",
            "+----+-----------------+--------+-------------+-------------+--------------------+------------------+--------------+-------------------+-------+------------+------------+--------------+--------------+------+--------------+-----------------+--------------+-----------------+-------------------+----------------------+---------------+------------------+-----------------+--------------------+---------+-------------+--------+-------------+-------------------+----------------------+-----+--------------------+\n",
            "only showing top 20 rows\n",
            "\n"
          ]
        }
      ]
    },
    {
      "cell_type": "code",
      "source": [
        "# Fit model to prepped data\n",
        "lrModel = LogisticRegression().fit(preppedDataDF)\n",
        " \n",
        "# ROC for training data\n",
        "display(lrModel, preppedDataDF, \"ROC\")"
      ],
      "metadata": {
        "colab": {
          "base_uri": "https://localhost:8080/",
          "height": 174
        },
        "id": "a1ZCF0FpodXi",
        "outputId": "6fac00f0-bd88-47fb-b8d1-2dcea12b7d92"
      },
      "execution_count": 25,
      "outputs": [
        {
          "output_type": "display_data",
          "data": {
            "text/plain": [
              "LogisticRegressionModel: uid=LogisticRegression_eaf2a86550d8, numClasses=2, numFeatures=100"
            ]
          },
          "metadata": {}
        },
        {
          "output_type": "display_data",
          "data": {
            "text/plain": [
              "DataFrame[age: double, workclass: string, fnlwgt: double, education: string, education_num: double, marital_status: string, occupation: string, relationship: string, race: string, sex: string, capital_gain: double, capital_loss: double, hours_per_week: double, native_country: string, income: string, workclassIndex: double, workclassclassVec: vector, educationIndex: double, educationclassVec: vector, marital_statusIndex: double, marital_statusclassVec: vector, occupationIndex: double, occupationclassVec: vector, relationshipIndex: double, relationshipclassVec: vector, raceIndex: double, raceclassVec: vector, sexIndex: double, sexclassVec: vector, native_countryIndex: double, native_countryclassVec: vector, label: double, features: vector]"
            ]
          },
          "metadata": {}
        },
        {
          "output_type": "display_data",
          "data": {
            "text/plain": [
              "'ROC'"
            ],
            "application/vnd.google.colaboratory.intrinsic+json": {
              "type": "string"
            }
          },
          "metadata": {}
        }
      ]
    },
    {
      "cell_type": "code",
      "source": [
        "display(lrModel, preppedDataDF)"
      ],
      "metadata": {
        "colab": {
          "base_uri": "https://localhost:8080/",
          "height": 156
        },
        "id": "VNWpFBc2pX-v",
        "outputId": "8bda3418-f1e7-497f-9477-c33ea0714674"
      },
      "execution_count": 26,
      "outputs": [
        {
          "output_type": "display_data",
          "data": {
            "text/plain": [
              "LogisticRegressionModel: uid=LogisticRegression_eaf2a86550d8, numClasses=2, numFeatures=100"
            ]
          },
          "metadata": {}
        },
        {
          "output_type": "display_data",
          "data": {
            "text/plain": [
              "DataFrame[age: double, workclass: string, fnlwgt: double, education: string, education_num: double, marital_status: string, occupation: string, relationship: string, race: string, sex: string, capital_gain: double, capital_loss: double, hours_per_week: double, native_country: string, income: string, workclassIndex: double, workclassclassVec: vector, educationIndex: double, educationclassVec: vector, marital_statusIndex: double, marital_statusclassVec: vector, occupationIndex: double, occupationclassVec: vector, relationshipIndex: double, relationshipclassVec: vector, raceIndex: double, raceclassVec: vector, sexIndex: double, sexclassVec: vector, native_countryIndex: double, native_countryclassVec: vector, label: double, features: vector]"
            ]
          },
          "metadata": {}
        }
      ]
    },
    {
      "cell_type": "code",
      "source": [
        "# Keep relevant columns\n",
        "selectedcols = [\"label\", \"features\"] + cols\n",
        "dataset = preppedDataDF.select(selectedcols)\n",
        "dataset.show()"
      ],
      "metadata": {
        "colab": {
          "base_uri": "https://localhost:8080/"
        },
        "id": "sYGxVt6hpuJR",
        "outputId": "151fda33-a3bb-45af-b468-ad32ce9113b5"
      },
      "execution_count": 27,
      "outputs": [
        {
          "output_type": "stream",
          "name": "stdout",
          "text": [
            "+-----+--------------------+----+-----------------+--------+-------------+-------------+--------------------+------------------+--------------+-------------------+-------+------------+------------+--------------+--------------+------+\n",
            "|label|            features| age|        workclass|  fnlwgt|    education|education_num|      marital_status|        occupation|  relationship|               race|    sex|capital_gain|capital_loss|hours_per_week|native_country|income|\n",
            "+-----+--------------------+----+-----------------+--------+-------------+-------------+--------------------+------------------+--------------+-------------------+-------+------------+------------+--------------+--------------+------+\n",
            "|  0.0|(100,[4,10,24,32,...|39.0|        State-gov| 77516.0|    Bachelors|         13.0|       Never-married|      Adm-clerical| Not-in-family|              White|   Male|      2174.0|         0.0|          40.0| United-States| <=50K|\n",
            "|  0.0|(100,[1,10,23,31,...|50.0| Self-emp-not-inc| 83311.0|    Bachelors|         13.0|  Married-civ-spouse|   Exec-managerial|       Husband|              White|   Male|         0.0|         0.0|          13.0| United-States| <=50K|\n",
            "|  0.0|(100,[0,8,25,38,4...|38.0|          Private|215646.0|      HS-grad|          9.0|            Divorced| Handlers-cleaners| Not-in-family|              White|   Male|         0.0|         0.0|          40.0| United-States| <=50K|\n",
            "|  0.0|(100,[0,13,23,38,...|53.0|          Private|234721.0|         11th|          7.0|  Married-civ-spouse| Handlers-cleaners|       Husband|              Black|   Male|         0.0|         0.0|          40.0| United-States| <=50K|\n",
            "|  0.0|(100,[0,10,23,29,...|28.0|          Private|338409.0|    Bachelors|         13.0|  Married-civ-spouse|    Prof-specialty|          Wife|              Black| Female|         0.0|         0.0|          40.0|          Cuba| <=50K|\n",
            "|  0.0|(100,[0,11,23,31,...|37.0|          Private|284582.0|      Masters|         14.0|  Married-civ-spouse|   Exec-managerial|          Wife|              White| Female|         0.0|         0.0|          40.0| United-States| <=50K|\n",
            "|  0.0|(100,[0,18,28,34,...|49.0|          Private|160187.0|          9th|          5.0| Married-spouse-a...|     Other-service| Not-in-family|              Black| Female|         0.0|         0.0|          16.0|       Jamaica| <=50K|\n",
            "|  1.0|(100,[1,8,23,31,4...|52.0| Self-emp-not-inc|209642.0|      HS-grad|          9.0|  Married-civ-spouse|   Exec-managerial|       Husband|              White|   Male|         0.0|         0.0|          45.0| United-States|  >50K|\n",
            "|  1.0|(100,[0,11,24,29,...|31.0|          Private| 45781.0|      Masters|         14.0|       Never-married|    Prof-specialty| Not-in-family|              White| Female|     14084.0|         0.0|          50.0| United-States|  >50K|\n",
            "|  1.0|(100,[0,10,23,31,...|42.0|          Private|159449.0|    Bachelors|         13.0|  Married-civ-spouse|   Exec-managerial|       Husband|              White|   Male|      5178.0|         0.0|          40.0| United-States|  >50K|\n",
            "|  1.0|(100,[0,9,23,31,4...|37.0|          Private|280464.0| Some-college|         10.0|  Married-civ-spouse|   Exec-managerial|       Husband|              Black|   Male|         0.0|         0.0|          80.0| United-States|  >50K|\n",
            "|  1.0|(100,[4,10,23,29,...|30.0|        State-gov|141297.0|    Bachelors|         13.0|  Married-civ-spouse|    Prof-specialty|       Husband| Asian-Pac-Islander|   Male|         0.0|         0.0|          40.0|         India|  >50K|\n",
            "|  0.0|(100,[0,10,24,32,...|23.0|          Private|122272.0|    Bachelors|         13.0|       Never-married|      Adm-clerical|     Own-child|              White| Female|         0.0|         0.0|          30.0| United-States| <=50K|\n",
            "|  0.0|(100,[0,14,24,33,...|32.0|          Private|205019.0|   Assoc-acdm|         12.0|       Never-married|             Sales| Not-in-family|              Black|   Male|         0.0|         0.0|          50.0| United-States| <=50K|\n",
            "|  1.0|(100,[0,12,23,30,...|40.0|          Private|121772.0|    Assoc-voc|         11.0|  Married-civ-spouse|      Craft-repair|       Husband| Asian-Pac-Islander|   Male|         0.0|         0.0|          40.0|             ?|  >50K|\n",
            "|  0.0|(100,[0,16,23,37,...|34.0|          Private|245487.0|      7th-8th|          4.0|  Married-civ-spouse|  Transport-moving|       Husband| Amer-Indian-Eskimo|   Male|         0.0|         0.0|          45.0|        Mexico| <=50K|\n",
            "|  0.0|(100,[1,8,24,39,4...|25.0| Self-emp-not-inc|176756.0|      HS-grad|          9.0|       Never-married|   Farming-fishing|     Own-child|              White|   Male|         0.0|         0.0|          35.0| United-States| <=50K|\n",
            "|  0.0|(100,[0,8,24,35,4...|32.0|          Private|186824.0|      HS-grad|          9.0|       Never-married| Machine-op-inspct|     Unmarried|              White|   Male|         0.0|         0.0|          40.0| United-States| <=50K|\n",
            "|  0.0|(100,[0,13,23,33,...|38.0|          Private| 28887.0|         11th|          7.0|  Married-civ-spouse|             Sales|       Husband|              White|   Male|         0.0|         0.0|          50.0| United-States| <=50K|\n",
            "|  1.0|(100,[1,11,25,31,...|43.0| Self-emp-not-inc|292175.0|      Masters|         14.0|            Divorced|   Exec-managerial|     Unmarried|              White| Female|         0.0|         0.0|          45.0| United-States|  >50K|\n",
            "+-----+--------------------+----+-----------------+--------+-------------+-------------+--------------------+------------------+--------------+-------------------+-------+------------+------------+--------------+--------------+------+\n",
            "only showing top 20 rows\n",
            "\n"
          ]
        }
      ]
    },
    {
      "cell_type": "code",
      "source": [
        "### Randomly split data into training and test sets. set seed for reproducibility\n",
        "(trainingData, testData) = dataset.randomSplit([0.7, 0.3], seed=100)\n",
        "print(trainingData.count())\n",
        "print(testData.count())"
      ],
      "metadata": {
        "colab": {
          "base_uri": "https://localhost:8080/"
        },
        "id": "SfbizoWFqWah",
        "outputId": "e25755b1-f2b3-46b2-9f8b-5dc71184cec6"
      },
      "execution_count": 28,
      "outputs": [
        {
          "output_type": "stream",
          "name": "stdout",
          "text": [
            "22832\n",
            "9729\n"
          ]
        }
      ]
    },
    {
      "cell_type": "code",
      "source": [
        "from pyspark.ml.classification import LogisticRegression\n",
        " \n",
        "# Create initial LogisticRegression model\n",
        "lr = LogisticRegression(labelCol=\"label\", featuresCol=\"features\", maxIter=10)\n",
        " \n",
        "# Train model with Training Data\n",
        "lrModel = lr.fit(trainingData)"
      ],
      "metadata": {
        "id": "6lAEBKheqbu4"
      },
      "execution_count": 29,
      "outputs": []
    },
    {
      "cell_type": "code",
      "source": [
        "# Make predictions on test data using the transform() method.\n",
        "# LogisticRegression.transform() will only use the 'features' column.\n",
        "predictions = lrModel.transform(testData)"
      ],
      "metadata": {
        "id": "O1UciBLmrJrd"
      },
      "execution_count": 30,
      "outputs": []
    },
    {
      "cell_type": "code",
      "source": [
        "selected = predictions.select(\"label\", \"prediction\", \"income\", \"probability\", \"age\", \"occupation\")\n",
        "selected.show()"
      ],
      "metadata": {
        "colab": {
          "base_uri": "https://localhost:8080/"
        },
        "id": "OLgWfwRSrMHR",
        "outputId": "79057f81-67a2-4463-85af-d374e9208070"
      },
      "execution_count": 31,
      "outputs": [
        {
          "output_type": "stream",
          "name": "stdout",
          "text": [
            "+-----+----------+------+--------------------+----+---------------+\n",
            "|label|prediction|income|         probability| age|     occupation|\n",
            "+-----+----------+------+--------------------+----+---------------+\n",
            "|  0.0|       1.0| <=50K|[0.16646708724833...|36.0| Prof-specialty|\n",
            "|  0.0|       0.0| <=50K|[0.70012031106347...|32.0| Prof-specialty|\n",
            "|  0.0|       0.0| <=50K|[0.53453682932965...|33.0| Prof-specialty|\n",
            "|  0.0|       0.0| <=50K|[0.67559303222185...|39.0| Prof-specialty|\n",
            "|  0.0|       0.0| <=50K|[0.62237992652147...|39.0| Prof-specialty|\n",
            "|  0.0|       0.0| <=50K|[0.61047384917734...|50.0| Prof-specialty|\n",
            "|  0.0|       0.0| <=50K|[0.60270631574160...|51.0| Prof-specialty|\n",
            "|  0.0|       0.0| <=50K|[0.60470503143805...|60.0| Prof-specialty|\n",
            "|  0.0|       0.0| <=50K|[0.74230866284291...|34.0| Prof-specialty|\n",
            "|  0.0|       0.0| <=50K|[0.98954486365582...|20.0| Prof-specialty|\n",
            "|  0.0|       1.0| <=50K|[0.35443820573118...|35.0| Prof-specialty|\n",
            "|  0.0|       0.0| <=50K|[0.52012311192879...|42.0| Prof-specialty|\n",
            "|  0.0|       0.0| <=50K|[0.57001207297900...|43.0| Prof-specialty|\n",
            "|  0.0|       0.0| <=50K|[0.72429051822756...|48.0| Prof-specialty|\n",
            "|  0.0|       0.0| <=50K|[0.65121742871645...|50.0| Prof-specialty|\n",
            "|  0.0|       0.0| <=50K|[0.66775456351898...|27.0|   Craft-repair|\n",
            "|  0.0|       0.0| <=50K|[0.52371842805163...|32.0|   Craft-repair|\n",
            "|  0.0|       1.0| <=50K|[0.36773833412272...|45.0|   Craft-repair|\n",
            "|  0.0|       1.0| <=50K|[0.48770095744496...|46.0|   Craft-repair|\n",
            "|  0.0|       1.0| <=50K|[0.32713602186495...|56.0|   Craft-repair|\n",
            "+-----+----------+------+--------------------+----+---------------+\n",
            "only showing top 20 rows\n",
            "\n"
          ]
        }
      ]
    },
    {
      "cell_type": "code",
      "source": [
        "from pyspark.ml.evaluation import BinaryClassificationEvaluator\n",
        " \n",
        "# Evaluate model\n",
        "evaluator = BinaryClassificationEvaluator()\n",
        "evaluator.evaluate(predictions)"
      ],
      "metadata": {
        "colab": {
          "base_uri": "https://localhost:8080/"
        },
        "id": "XfraGmuqrRaF",
        "outputId": "4c53d469-e334-4392-ebbd-57d7fc2566ca"
      },
      "execution_count": 32,
      "outputs": [
        {
          "output_type": "execute_result",
          "data": {
            "text/plain": [
              "0.9010633018702178"
            ]
          },
          "metadata": {},
          "execution_count": 32
        }
      ]
    },
    {
      "cell_type": "code",
      "source": [
        "evaluator.getMetricName()"
      ],
      "metadata": {
        "colab": {
          "base_uri": "https://localhost:8080/",
          "height": 35
        },
        "id": "dJgtFkP3rxR8",
        "outputId": "1511365e-696b-43f9-a9c1-6a1c13cb83b3"
      },
      "execution_count": 33,
      "outputs": [
        {
          "output_type": "execute_result",
          "data": {
            "text/plain": [
              "'areaUnderROC'"
            ],
            "application/vnd.google.colaboratory.intrinsic+json": {
              "type": "string"
            }
          },
          "metadata": {},
          "execution_count": 33
        }
      ]
    },
    {
      "cell_type": "code",
      "source": [
        "print(lr.explainParams())"
      ],
      "metadata": {
        "colab": {
          "base_uri": "https://localhost:8080/"
        },
        "id": "a6XUD2Mfr2n8",
        "outputId": "eefbf070-efd0-4741-fdb3-5c54ab6ae23f"
      },
      "execution_count": 34,
      "outputs": [
        {
          "output_type": "stream",
          "name": "stdout",
          "text": [
            "aggregationDepth: suggested depth for treeAggregate (>= 2). (default: 2)\n",
            "elasticNetParam: the ElasticNet mixing parameter, in range [0, 1]. For alpha = 0, the penalty is an L2 penalty. For alpha = 1, it is an L1 penalty. (default: 0.0)\n",
            "family: The name of family which is a description of the label distribution to be used in the model. Supported options: auto, binomial, multinomial (default: auto)\n",
            "featuresCol: features column name. (default: features, current: features)\n",
            "fitIntercept: whether to fit an intercept term. (default: True)\n",
            "labelCol: label column name. (default: label, current: label)\n",
            "lowerBoundsOnCoefficients: The lower bounds on coefficients if fitting under bound constrained optimization. The bound matrix must be compatible with the shape (1, number of features) for binomial regression, or (number of classes, number of features) for multinomial regression. (undefined)\n",
            "lowerBoundsOnIntercepts: The lower bounds on intercepts if fitting under bound constrained optimization. The bounds vector size must beequal with 1 for binomial regression, or the number oflasses for multinomial regression. (undefined)\n",
            "maxBlockSizeInMB: maximum memory in MB for stacking input data into blocks. Data is stacked within partitions. If more than remaining data size in a partition then it is adjusted to the data size. Default 0.0 represents choosing optimal value, depends on specific algorithm. Must be >= 0. (default: 0.0)\n",
            "maxIter: max number of iterations (>= 0). (default: 100, current: 10)\n",
            "predictionCol: prediction column name. (default: prediction)\n",
            "probabilityCol: Column name for predicted class conditional probabilities. Note: Not all models output well-calibrated probability estimates! These probabilities should be treated as confidences, not precise probabilities. (default: probability)\n",
            "rawPredictionCol: raw prediction (a.k.a. confidence) column name. (default: rawPrediction)\n",
            "regParam: regularization parameter (>= 0). (default: 0.0)\n",
            "standardization: whether to standardize the training features before fitting the model. (default: True)\n",
            "threshold: Threshold in binary classification prediction, in range [0, 1]. If threshold and thresholds are both set, they must match.e.g. if threshold is p, then thresholds must be equal to [1-p, p]. (default: 0.5)\n",
            "thresholds: Thresholds in multi-class classification to adjust the probability of predicting each class. Array must have length equal to the number of classes, with values > 0, excepting that at most one value may be 0. The class with largest value p/t is predicted, where p is the original probability of that class and t is the class's threshold. (undefined)\n",
            "tol: the convergence tolerance for iterative algorithms (>= 0). (default: 1e-06)\n",
            "upperBoundsOnCoefficients: The upper bounds on coefficients if fitting under bound constrained optimization. The bound matrix must be compatible with the shape (1, number of features) for binomial regression, or (number of classes, number of features) for multinomial regression. (undefined)\n",
            "upperBoundsOnIntercepts: The upper bounds on intercepts if fitting under bound constrained optimization. The bound vector size must be equal with 1 for binomial regression, or the number of classes for multinomial regression. (undefined)\n",
            "weightCol: weight column name. If this is not set or empty, we treat all instance weights as 1.0. (undefined)\n"
          ]
        }
      ]
    },
    {
      "cell_type": "code",
      "source": [
        "from pyspark.ml.tuning import ParamGridBuilder, CrossValidator\n",
        " \n",
        "# Create ParamGrid for Cross Validation\n",
        "paramGrid = (ParamGridBuilder()\n",
        "             .addGrid(lr.regParam, [0.01, 0.5, 2.0])\n",
        "             .addGrid(lr.elasticNetParam, [0.0, 0.5, 1.0])\n",
        "             .addGrid(lr.maxIter, [1, 5, 10])\n",
        "             .build())"
      ],
      "metadata": {
        "id": "UPjwwAJ3sIWN"
      },
      "execution_count": 35,
      "outputs": []
    },
    {
      "cell_type": "code",
      "source": [
        "# Create 5-fold CrossValidator\n",
        "cv = CrossValidator(estimator=lr, estimatorParamMaps=paramGrid, evaluator=evaluator, numFolds=5)\n",
        " \n",
        "# Run cross validations\n",
        "cvModel = cv.fit(trainingData)\n",
        "# this will likely take a fair amount of time because of the amount of models that we're creating and testing"
      ],
      "metadata": {
        "id": "jmLd9vY0seBp"
      },
      "execution_count": 36,
      "outputs": []
    },
    {
      "cell_type": "code",
      "source": [
        "predictions = cvModel.transform(testData)"
      ],
      "metadata": {
        "id": "8u-RpPgRs3Ob"
      },
      "execution_count": 37,
      "outputs": []
    },
    {
      "cell_type": "code",
      "source": [
        "evaluator.evaluate(predictions)"
      ],
      "metadata": {
        "colab": {
          "base_uri": "https://localhost:8080/"
        },
        "id": "5CRWbKmHt1T8",
        "outputId": "1c056b6b-5cd6-4f6f-eb95-4ef2c347167b"
      },
      "execution_count": 38,
      "outputs": [
        {
          "output_type": "execute_result",
          "data": {
            "text/plain": [
              "0.8997203469558716"
            ]
          },
          "metadata": {},
          "execution_count": 38
        }
      ]
    },
    {
      "cell_type": "code",
      "source": [
        "print('Model Intercept: ', cvModel.bestModel.intercept)"
      ],
      "metadata": {
        "colab": {
          "base_uri": "https://localhost:8080/"
        },
        "id": "QQBiKb0quGwN",
        "outputId": "032e61d6-a048-4914-865c-2568d632b2c9"
      },
      "execution_count": 39,
      "outputs": [
        {
          "output_type": "stream",
          "name": "stdout",
          "text": [
            "Model Intercept:  -6.336365999298099\n"
          ]
        }
      ]
    },
    {
      "cell_type": "code",
      "source": [
        "display((cvModel).bestModel.explainParams())"
      ],
      "metadata": {
        "colab": {
          "base_uri": "https://localhost:8080/",
          "height": 174
        },
        "id": "x9UWU8URuQmc",
        "outputId": "0f7b94c8-40d0-4d1b-d2cc-68ab90ea6464"
      },
      "execution_count": 40,
      "outputs": [
        {
          "output_type": "display_data",
          "data": {
            "text/plain": [
              "\"aggregationDepth: suggested depth for treeAggregate (>= 2). (default: 2)\\nelasticNetParam: the ElasticNet mixing parameter, in range [0, 1]. For alpha = 0, the penalty is an L2 penalty. For alpha = 1, it is an L1 penalty. (default: 0.0, current: 0.0)\\nfamily: The name of family which is a description of the label distribution to be used in the model. Supported options: auto, binomial, multinomial (default: auto)\\nfeaturesCol: features column name. (default: features, current: features)\\nfitIntercept: whether to fit an intercept term. (default: True)\\nlabelCol: label column name. (default: label, current: label)\\nlowerBoundsOnCoefficients: The lower bounds on coefficients if fitting under bound constrained optimization. The bound matrix must be compatible with the shape (1, number of features) for binomial regression, or (number of classes, number of features) for multinomial regression. (undefined)\\nlowerBoundsOnIntercepts: The lower bounds on intercepts if fitting under bound constrained optimization. The bounds vector size must beequal with 1 for binomial regression, or the number oflasses for multinomial regression. (undefined)\\nmaxBlockSizeInMB: maximum memory in MB for stacking input data into blocks. Data is stacked within partitions. If more than remaining data size in a partition then it is adjusted to the data size. Default 0.0 represents choosing optimal value, depends on specific algorithm. Must be >= 0. (default: 0.0)\\nmaxIter: max number of iterations (>= 0). (default: 100, current: 10)\\npredictionCol: prediction column name. (default: prediction)\\nprobabilityCol: Column name for predicted class conditional probabilities. Note: Not all models output well-calibrated probability estimates! These probabilities should be treated as confidences, not precise probabilities. (default: probability)\\nrawPredictionCol: raw prediction (a.k.a. confidence) column name. (default: rawPrediction)\\nregParam: regularization parameter (>= 0). (default: 0.0, current: 0.01)\\nstandardization: whether to standardize the training features before fitting the model. (default: True)\\nthreshold: Threshold in binary classification prediction, in range [0, 1]. If threshold and thresholds are both set, they must match.e.g. if threshold is p, then thresholds must be equal to [1-p, p]. (default: 0.5)\\nthresholds: Thresholds in multi-class classification to adjust the probability of predicting each class. Array must have length equal to the number of classes, with values > 0, excepting that at most one value may be 0. The class with largest value p/t is predicted, where p is the original probability of that class and t is the class's threshold. (undefined)\\ntol: the convergence tolerance for iterative algorithms (>= 0). (default: 1e-06)\\nupperBoundsOnCoefficients: The upper bounds on coefficients if fitting under bound constrained optimization. The bound matrix must be compatible with the shape (1, number of features) for binomial regression, or (number of classes, number of features) for multinomial regression. (undefined)\\nupperBoundsOnIntercepts: The upper bounds on intercepts if fitting under bound constrained optimization. The bound vector size must be equal with 1 for binomial regression, or the number of classes for multinomial regression. (undefined)\\nweightCol: weight column name. If this is not set or empty, we treat all instance weights as 1.0. (undefined)\""
            ],
            "application/vnd.google.colaboratory.intrinsic+json": {
              "type": "string"
            }
          },
          "metadata": {}
        }
      ]
    },
    {
      "cell_type": "code",
      "source": [
        "weights = cvModel.bestModel.coefficients\n",
        "weights = [(float(w),) for w in weights]  # convert numpy type to float, and to tuple\n",
        "weightsDF = spark.createDataFrame(weights, [\"Feature Weight\"])\n",
        "display(weightsDF)"
      ],
      "metadata": {
        "colab": {
          "base_uri": "https://localhost:8080/",
          "height": 34
        },
        "id": "Rvc_lUFsugs-",
        "outputId": "b38ad293-510d-43ef-c569-ebd3ae58c675"
      },
      "execution_count": 41,
      "outputs": [
        {
          "output_type": "display_data",
          "data": {
            "text/plain": [
              "DataFrame[Feature Weight: double]"
            ]
          },
          "metadata": {}
        }
      ]
    },
    {
      "cell_type": "code",
      "source": [
        "# View best model's predictions and probabilities of each prediction class\n",
        "selected = predictions.select(\"label\", \"prediction\", \"income\" , \"probability\", \"age\", \"occupation\")\n",
        "selected.show()"
      ],
      "metadata": {
        "colab": {
          "base_uri": "https://localhost:8080/"
        },
        "id": "ZFxLdK_cujUP",
        "outputId": "168d7f17-0f7a-4883-aa40-aa9c79f8673a"
      },
      "execution_count": 42,
      "outputs": [
        {
          "output_type": "stream",
          "name": "stdout",
          "text": [
            "+-----+----------+------+--------------------+----+---------------+\n",
            "|label|prediction|income|         probability| age|     occupation|\n",
            "+-----+----------+------+--------------------+----+---------------+\n",
            "|  0.0|       1.0| <=50K|[0.21060910009532...|36.0| Prof-specialty|\n",
            "|  0.0|       0.0| <=50K|[0.68097448822474...|32.0| Prof-specialty|\n",
            "|  0.0|       0.0| <=50K|[0.54341491059548...|33.0| Prof-specialty|\n",
            "|  0.0|       0.0| <=50K|[0.65860417846993...|39.0| Prof-specialty|\n",
            "|  0.0|       0.0| <=50K|[0.61463593853443...|39.0| Prof-specialty|\n",
            "|  0.0|       0.0| <=50K|[0.60241279947003...|50.0| Prof-specialty|\n",
            "|  0.0|       0.0| <=50K|[0.59586897256623...|51.0| Prof-specialty|\n",
            "|  0.0|       0.0| <=50K|[0.59681289807548...|60.0| Prof-specialty|\n",
            "|  0.0|       0.0| <=50K|[0.72170646267586...|34.0| Prof-specialty|\n",
            "|  0.0|       0.0| <=50K|[0.96796930272851...|20.0| Prof-specialty|\n",
            "|  0.0|       1.0| <=50K|[0.47756430733627...|35.0| Prof-specialty|\n",
            "|  0.0|       0.0| <=50K|[0.52627860330667...|42.0| Prof-specialty|\n",
            "|  0.0|       0.0| <=50K|[0.56664870040475...|43.0| Prof-specialty|\n",
            "|  0.0|       0.0| <=50K|[0.69652413506702...|48.0| Prof-specialty|\n",
            "|  0.0|       0.0| <=50K|[0.63393882434786...|50.0| Prof-specialty|\n",
            "|  0.0|       0.0| <=50K|[0.71935421270930...|27.0|   Craft-repair|\n",
            "|  0.0|       0.0| <=50K|[0.62984231821867...|32.0|   Craft-repair|\n",
            "|  0.0|       0.0| <=50K|[0.52752225767823...|45.0|   Craft-repair|\n",
            "|  0.0|       0.0| <=50K|[0.59137675155716...|46.0|   Craft-repair|\n",
            "|  0.0|       1.0| <=50K|[0.48787380566873...|56.0|   Craft-repair|\n",
            "+-----+----------+------+--------------------+----+---------------+\n",
            "only showing top 20 rows\n",
            "\n"
          ]
        }
      ]
    },
    {
      "cell_type": "markdown",
      "source": [
        "Decision tree"
      ],
      "metadata": {
        "id": "_H8ukrK5v3GR"
      }
    },
    {
      "cell_type": "code",
      "source": [
        "from pyspark.ml.classification import DecisionTreeClassifier\n",
        " \n",
        "# Create initial Decision Tree Model\n",
        "dt = DecisionTreeClassifier(labelCol=\"label\", featuresCol=\"features\", maxDepth=3)\n",
        " \n",
        "# Train model with Training Data\n",
        "dtModel = dt.fit(trainingData)"
      ],
      "metadata": {
        "id": "aBqE47ykwhnI"
      },
      "execution_count": 43,
      "outputs": []
    },
    {
      "cell_type": "code",
      "source": [
        "print(\"numNodes = \", dtModel.numNodes)\n",
        "print(\"depth = \", dtModel.depth)"
      ],
      "metadata": {
        "colab": {
          "base_uri": "https://localhost:8080/"
        },
        "id": "znfMMdo-wiKS",
        "outputId": "ed534ba9-7d69-4a9c-b901-2bf07fa3f6d5"
      },
      "execution_count": 44,
      "outputs": [
        {
          "output_type": "stream",
          "name": "stdout",
          "text": [
            "numNodes =  11\n",
            "depth =  3\n"
          ]
        }
      ]
    },
    {
      "cell_type": "code",
      "source": [
        "display(dtModel)"
      ],
      "metadata": {
        "colab": {
          "base_uri": "https://localhost:8080/",
          "height": 52
        },
        "id": "GXcGXbNrwjzu",
        "outputId": "68595723-6bc3-4299-eae6-01b907e1678e"
      },
      "execution_count": 45,
      "outputs": [
        {
          "output_type": "display_data",
          "data": {
            "text/plain": [
              "DecisionTreeClassificationModel: uid=DecisionTreeClassifier_5d237169508e, depth=3, numNodes=11, numClasses=2, numFeatures=100"
            ]
          },
          "metadata": {}
        }
      ]
    },
    {
      "cell_type": "code",
      "source": [
        "# Make predictions on test data using the Transformer.transform() method.\n",
        "predictions = dtModel.transform(testData)"
      ],
      "metadata": {
        "id": "-k5BvqNTwlVB"
      },
      "execution_count": 46,
      "outputs": []
    },
    {
      "cell_type": "code",
      "source": [
        "predictions.printSchema()"
      ],
      "metadata": {
        "colab": {
          "base_uri": "https://localhost:8080/"
        },
        "id": "hptn9gArwm1I",
        "outputId": "c0be0035-c23c-4870-be65-a059586fd6ce"
      },
      "execution_count": 47,
      "outputs": [
        {
          "output_type": "stream",
          "name": "stdout",
          "text": [
            "root\n",
            " |-- label: double (nullable = false)\n",
            " |-- features: vector (nullable = true)\n",
            " |-- age: double (nullable = true)\n",
            " |-- workclass: string (nullable = true)\n",
            " |-- fnlwgt: double (nullable = true)\n",
            " |-- education: string (nullable = true)\n",
            " |-- education_num: double (nullable = true)\n",
            " |-- marital_status: string (nullable = true)\n",
            " |-- occupation: string (nullable = true)\n",
            " |-- relationship: string (nullable = true)\n",
            " |-- race: string (nullable = true)\n",
            " |-- sex: string (nullable = true)\n",
            " |-- capital_gain: double (nullable = true)\n",
            " |-- capital_loss: double (nullable = true)\n",
            " |-- hours_per_week: double (nullable = true)\n",
            " |-- native_country: string (nullable = true)\n",
            " |-- income: string (nullable = true)\n",
            " |-- rawPrediction: vector (nullable = true)\n",
            " |-- probability: vector (nullable = true)\n",
            " |-- prediction: double (nullable = false)\n",
            "\n"
          ]
        }
      ]
    },
    {
      "cell_type": "code",
      "source": [
        "# View model's predictions and probabilities of each prediction class\n",
        "selected = predictions.select(\"label\", \"prediction\", \"probability\", \"age\", \"occupation\")\n",
        "selected.show()\n"
      ],
      "metadata": {
        "colab": {
          "base_uri": "https://localhost:8080/"
        },
        "id": "RNK1YzNSwoNA",
        "outputId": "dd27e962-bc7f-4dbe-abae-f3c1a0028415"
      },
      "execution_count": 58,
      "outputs": [
        {
          "output_type": "stream",
          "name": "stdout",
          "text": [
            "+-----+----------+--------------------+----+---------------+\n",
            "|label|prediction|         probability| age|     occupation|\n",
            "+-----+----------+--------------------+----+---------------+\n",
            "|  0.0|       0.0|[0.83333333333333...|36.0| Prof-specialty|\n",
            "|  0.0|       0.0|[0.84040747028862...|32.0| Prof-specialty|\n",
            "|  0.0|       0.0|[0.73248407643312...|33.0| Prof-specialty|\n",
            "|  0.0|       0.0|[0.65073746312684...|39.0| Prof-specialty|\n",
            "|  0.0|       0.0|[0.65073746312684...|39.0| Prof-specialty|\n",
            "|  0.0|       0.0|[0.65073746312684...|50.0| Prof-specialty|\n",
            "|  0.0|       0.0|[0.65073746312684...|51.0| Prof-specialty|\n",
            "|  0.0|       0.0|[0.89389067524115...|60.0| Prof-specialty|\n",
            "|  0.0|       0.0|[0.84040747028862...|34.0| Prof-specialty|\n",
            "|  0.0|       0.0|[0.91361256544502...|20.0| Prof-specialty|\n",
            "|  0.0|       0.0|[0.84040747028862...|35.0| Prof-specialty|\n",
            "|  0.0|       0.0|[0.65073746312684...|42.0| Prof-specialty|\n",
            "|  0.0|       0.0|[0.65073746312684...|43.0| Prof-specialty|\n",
            "|  0.0|       0.0|[0.73913043478260...|48.0| Prof-specialty|\n",
            "|  0.0|       0.0|[0.73913043478260...|50.0| Prof-specialty|\n",
            "|  0.0|       0.0|[0.91361256544502...|27.0|   Craft-repair|\n",
            "|  0.0|       0.0|[0.84040747028862...|32.0|   Craft-repair|\n",
            "|  0.0|       0.0|[0.65073746312684...|45.0|   Craft-repair|\n",
            "|  0.0|       0.0|[0.65073746312684...|46.0|   Craft-repair|\n",
            "|  0.0|       0.0|[0.65073746312684...|56.0|   Craft-repair|\n",
            "+-----+----------+--------------------+----+---------------+\n",
            "only showing top 20 rows\n",
            "\n"
          ]
        }
      ]
    },
    {
      "cell_type": "code",
      "source": [
        "from pyspark.ml.evaluation import BinaryClassificationEvaluator\n",
        "# Evaluate model\n",
        "evaluator = BinaryClassificationEvaluator()\n",
        "evaluator.evaluate(predictions)"
      ],
      "metadata": {
        "colab": {
          "base_uri": "https://localhost:8080/"
        },
        "id": "v6TJ6Nvzwp5L",
        "outputId": "9bcfc5ab-5869-45ed-c180-d170c264ad6f"
      },
      "execution_count": 49,
      "outputs": [
        {
          "output_type": "execute_result",
          "data": {
            "text/plain": [
              "0.7389215983587255"
            ]
          },
          "metadata": {},
          "execution_count": 49
        }
      ]
    },
    {
      "cell_type": "code",
      "source": [
        "dt.getImpurity()"
      ],
      "metadata": {
        "colab": {
          "base_uri": "https://localhost:8080/",
          "height": 35
        },
        "id": "JprvH6JQwrhy",
        "outputId": "c6a0b6c7-fe76-4724-a967-3020ffba5700"
      },
      "execution_count": 50,
      "outputs": [
        {
          "output_type": "execute_result",
          "data": {
            "text/plain": [
              "'gini'"
            ],
            "application/vnd.google.colaboratory.intrinsic+json": {
              "type": "string"
            }
          },
          "metadata": {},
          "execution_count": 50
        }
      ]
    },
    {
      "cell_type": "code",
      "source": [
        "# Create ParamGrid for Cross Validation\n",
        "from pyspark.ml.tuning import ParamGridBuilder, CrossValidator\n",
        "paramGrid = (ParamGridBuilder()\n",
        "             .addGrid(dt.maxDepth, [1, 2, 6, 10])\n",
        "             .addGrid(dt.maxBins, [20, 40, 80])\n",
        "             .build())"
      ],
      "metadata": {
        "id": "YjrTAVzDwtvB"
      },
      "execution_count": 51,
      "outputs": []
    },
    {
      "cell_type": "code",
      "source": [
        "# Create 5-fold CrossValidator\n",
        "cv = CrossValidator(estimator=dt, estimatorParamMaps=paramGrid, evaluator=evaluator, numFolds=5)\n",
        " \n",
        "# Run cross validations\n",
        "cvModel = cv.fit(trainingData)\n",
        "# Takes ~5 minutes"
      ],
      "metadata": {
        "id": "JSmfIGdkwvdn"
      },
      "execution_count": 52,
      "outputs": []
    },
    {
      "cell_type": "code",
      "source": [
        "print(\"numNodes = \", cvModel.bestModel.numNodes)\n",
        "print(\"depth = \", cvModel.bestModel.depth)"
      ],
      "metadata": {
        "colab": {
          "base_uri": "https://localhost:8080/"
        },
        "id": "3v-oJodkwxGz",
        "outputId": "48fb653f-f212-4cea-87e4-137f5f13a27e"
      },
      "execution_count": 53,
      "outputs": [
        {
          "output_type": "stream",
          "name": "stdout",
          "text": [
            "numNodes =  389\n",
            "depth =  10\n"
          ]
        }
      ]
    },
    {
      "cell_type": "code",
      "source": [
        "# Use test set to measure the accuracy of the model on new data\n",
        "predictions = cvModel.transform(testData)"
      ],
      "metadata": {
        "id": "XXANWLgJwyn5"
      },
      "execution_count": 54,
      "outputs": []
    },
    {
      "cell_type": "code",
      "source": [
        "# cvModel uses the best model found from the Cross Validation\n",
        "# Evaluate best model\n",
        "evaluator.evaluate(predictions)"
      ],
      "metadata": {
        "colab": {
          "base_uri": "https://localhost:8080/"
        },
        "id": "T-oaCBIFwz8Q",
        "outputId": "a612d528-33a3-4e5e-a377-45bfd451a886"
      },
      "execution_count": 55,
      "outputs": [
        {
          "output_type": "execute_result",
          "data": {
            "text/plain": [
              "0.7847131905029388"
            ]
          },
          "metadata": {},
          "execution_count": 55
        }
      ]
    },
    {
      "cell_type": "code",
      "source": [
        "# View Best model's predictions and probabilities of each prediction class\n",
        "selected = predictions.select(\"label\", \"prediction\", \"probability\", \"age\", \"occupation\")\n",
        "selected.show()\n"
      ],
      "metadata": {
        "colab": {
          "base_uri": "https://localhost:8080/"
        },
        "id": "54i9Tk_aw1Tr",
        "outputId": "3a6c2869-fc43-4632-d053-2bf9abd8df91"
      },
      "execution_count": 57,
      "outputs": [
        {
          "output_type": "stream",
          "name": "stdout",
          "text": [
            "+-----+----------+--------------------+----+---------------+\n",
            "|label|prediction|         probability| age|     occupation|\n",
            "+-----+----------+--------------------+----+---------------+\n",
            "|  0.0|       0.0|[0.83333333333333...|36.0| Prof-specialty|\n",
            "|  0.0|       0.0|[0.84040747028862...|32.0| Prof-specialty|\n",
            "|  0.0|       0.0|[0.73248407643312...|33.0| Prof-specialty|\n",
            "|  0.0|       0.0|[0.65073746312684...|39.0| Prof-specialty|\n",
            "|  0.0|       0.0|[0.65073746312684...|39.0| Prof-specialty|\n",
            "|  0.0|       0.0|[0.65073746312684...|50.0| Prof-specialty|\n",
            "|  0.0|       0.0|[0.65073746312684...|51.0| Prof-specialty|\n",
            "|  0.0|       0.0|[0.89389067524115...|60.0| Prof-specialty|\n",
            "|  0.0|       0.0|[0.84040747028862...|34.0| Prof-specialty|\n",
            "|  0.0|       0.0|[0.91361256544502...|20.0| Prof-specialty|\n",
            "|  0.0|       0.0|[0.84040747028862...|35.0| Prof-specialty|\n",
            "|  0.0|       0.0|[0.65073746312684...|42.0| Prof-specialty|\n",
            "|  0.0|       0.0|[0.65073746312684...|43.0| Prof-specialty|\n",
            "|  0.0|       0.0|[0.73913043478260...|48.0| Prof-specialty|\n",
            "|  0.0|       0.0|[0.73913043478260...|50.0| Prof-specialty|\n",
            "|  0.0|       0.0|[0.91361256544502...|27.0|   Craft-repair|\n",
            "|  0.0|       0.0|[0.84040747028862...|32.0|   Craft-repair|\n",
            "|  0.0|       0.0|[0.65073746312684...|45.0|   Craft-repair|\n",
            "|  0.0|       0.0|[0.65073746312684...|46.0|   Craft-repair|\n",
            "|  0.0|       0.0|[0.65073746312684...|56.0|   Craft-repair|\n",
            "+-----+----------+--------------------+----+---------------+\n",
            "only showing top 20 rows\n",
            "\n"
          ]
        }
      ]
    }
  ]
}